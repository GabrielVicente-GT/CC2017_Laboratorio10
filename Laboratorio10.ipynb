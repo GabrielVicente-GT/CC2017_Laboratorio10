{
 "cells": [
  {
   "cell_type": "markdown",
   "metadata": {},
   "source": [
    "# Modelación y Simulación\n",
    "## - Laboratorio 10 -\n",
    "## Grupo 1\n",
    "* Gabriel Vicente\n",
    "* Christopher Gárcia\n",
    "* Alejandro Gomez\n",
    "* Roberto Vallecillos\n",
    "## Instrucciones:\n",
    "* Esta actividad en grupos de 4 máximo\n",
    "* No se permitirá ni se aceptará cualquier indicio de copia. De presentarse, se procederá según el reglamento correspondiente.\n",
    "* Recuerden dejar claro el procedimiento seguido para las soluciones dadas cuando corresponda.\n",
    "* Cuando corresponda, deberán generar un archivo PDF para subirlo al espacio en Canvas.\n",
    "* Cuando corresponda, deberán subir el archivo de código correspondiente a las respuestas de cada task."
   ]
  },
  {
   "cell_type": "markdown",
   "metadata": {},
   "source": [
    "## Ejercicio Único\n",
    "Como bien sabemos, una aplicación tradicional de Algoritmos Genéticos es la optimización de funciones, pero este no solo se limita a ello, sino también, al ser este algoritmo potenciado con Redes Neuronales, se pueden llegar a crear proyectos más complejos.\n",
    "\n",
    "Para este ejercicio tienen libertad de elegir un tema o aplicación de Algoritmos Genéticos. Teniendo en cuenta que deben programar el framework para algoritmos genéticos que consiste en\n",
    "\n",
    "* Función objetivo/fitness/apitud\n",
    "* Función de selección\n",
    "* Función de crossover\n",
    "* Función de mutación\n",
    "* Función de ejecución (en esta se hacen llamadas a las funciones mencionadas anteriormente)\n",
    "\n",
    "Además, si deciden hacer la optimización de funciones, deben usar por lo menos dos funciones de ejemplo y mostrar cual es el resultado matemático correcto. Recuerden citar adecuadamente todas las fuentes que utilicen."
   ]
  },
  {
   "cell_type": "code",
   "execution_count": 2,
   "metadata": {},
   "outputs": [
    {
     "name": "stdout",
     "output_type": "stream",
     "text": [
      "Mejor solución encontrada:\n",
      "Cromosoma: [1, 1, 1, 0, 0]\n",
      "Valor: 19\n",
      "Peso: 10\n"
     ]
    }
   ],
   "source": [
    "import random\n",
    "\n",
    "pesos = [3, 5, 2, 8, 6]\n",
    "valores = [6, 10, 3, 15, 12]\n",
    "capacidad_mochila = 12\n",
    "\n",
    "tamanio_poblacion = 20\n",
    "probabilidad_mutacion = 0.1\n",
    "num_generaciones = 100\n",
    "\n",
    "def generar_cromosoma():\n",
    "    return [random.randint(0, 1) for _ in range(len(pesos))]\n",
    "\n",
    "def evaluar_cromosoma(cromosoma):\n",
    "    peso_total = sum(cromosoma[i] * pesos[i] for i in range(len(pesos)))\n",
    "    valor_total = sum(cromosoma[i] * valores[i] for i in range(len(valores)))\n",
    "    if peso_total > capacidad_mochila:\n",
    "        return 0  \n",
    "    return valor_total\n",
    "\n",
    "def seleccion(poblacion):\n",
    "    evaluaciones = [evaluar_cromosoma(cromosoma) for cromosoma in poblacion]\n",
    "    total_evaluaciones = sum(evaluaciones)\n",
    "    probabilidades_seleccion = [evaluacion / total_evaluaciones for evaluacion in evaluaciones]\n",
    "    seleccionados = random.choices(poblacion, probabilidades_seleccion, k=tamanio_poblacion)\n",
    "    return seleccionados\n",
    "\n",
    "def cruzar(padre1, padre2):\n",
    "    punto_cruce = random.randint(1, len(pesos) - 1)\n",
    "    hijo1 = padre1[:punto_cruce] + padre2[punto_cruce:]\n",
    "    hijo2 = padre2[:punto_cruce] + padre1[punto_cruce:]\n",
    "    return hijo1, hijo2\n",
    "\n",
    "def mutar(cromosoma):\n",
    "    for i in range(len(cromosoma)):\n",
    "        if random.random() < probabilidad_mutacion:\n",
    "            cromosoma[i] = 1 - cromosoma[i] \n",
    "    return cromosoma\n",
    "\n",
    "poblacion = [generar_cromosoma() for _ in range(tamanio_poblacion)]\n",
    "\n",
    "for generacion in range(num_generaciones):\n",
    "    poblacion = seleccion(poblacion)\n",
    "    descendencia = []\n",
    "    while len(descendencia) < tamanio_poblacion:\n",
    "        padre1, padre2 = random.sample(poblacion, 2)\n",
    "        hijo1, hijo2 = cruzar(padre1, padre2)\n",
    "        hijo1 = mutar(hijo1)\n",
    "        hijo2 = mutar(hijo2)\n",
    "        descendencia.extend([hijo1, hijo2])\n",
    "    poblacion = descendencia\n",
    "\n",
    "mejor_cromosoma = max(poblacion, key=evaluar_cromosoma)\n",
    "mejor_valor = evaluar_cromosoma(mejor_cromosoma)\n",
    "mejor_peso = sum(mejor_cromosoma[i] * pesos[i] for i in range(len(pesos)))\n",
    "\n",
    "print(\"Mejor solución encontrada:\")\n",
    "print(\"Cromosoma:\", mejor_cromosoma)\n",
    "print(\"Valor:\", mejor_valor)\n",
    "print(\"Peso:\", mejor_peso)\n"
   ]
  },
  {
   "cell_type": "markdown",
   "metadata": {},
   "source": [
    "# Bibliografia\n",
    "\n",
    "* El problema de la mochila. (2023). Google for Developers. https://developers.google.com/optimization/pack/knapsack?hl=es-419#:~:text=In%20the%20knapsack%20problem%2C%20you,can't%20pack%20them%20all.\n",
    "\n",
    "‌"
   ]
  },
  {
   "cell_type": "code",
   "execution_count": null,
   "metadata": {},
   "outputs": [],
   "source": []
  }
 ],
 "metadata": {
  "kernelspec": {
   "display_name": "Python 3",
   "language": "python",
   "name": "python3"
  },
  "language_info": {
   "codemirror_mode": {
    "name": "ipython",
    "version": 3
   },
   "file_extension": ".py",
   "mimetype": "text/x-python",
   "name": "python",
   "nbconvert_exporter": "python",
   "pygments_lexer": "ipython3",
   "version": "3.10.11"
  }
 },
 "nbformat": 4,
 "nbformat_minor": 2
}
