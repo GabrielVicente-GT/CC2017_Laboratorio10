{
 "cells": [
  {
   "cell_type": "markdown",
   "metadata": {},
   "source": [
    "# Modelación y Simulación\n",
    "## - Laboratorio 10 -\n",
    "## Grupo 1\n",
    "* Gabriel Vicente\n",
    "* Christopher Gárcia\n",
    "* Alejandro Gomez\n",
    "* Roberto Vallecillos"
   ]
  },
  {
   "cell_type": "code",
   "execution_count": null,
   "metadata": {},
   "outputs": [],
   "source": []
  }
 ],
 "metadata": {
  "language_info": {
   "name": "python"
  }
 },
 "nbformat": 4,
 "nbformat_minor": 2
}
